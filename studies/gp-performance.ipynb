{
 "cells": [
  {
   "cell_type": "code",
   "execution_count": 1,
   "metadata": {},
   "outputs": [],
   "source": [
    "import pints\n",
    "import pints.toy\n",
    "import numpy as np\n",
    "import matplotlib.pyplot as plt\n",
    "\n",
    "import GPy\n",
    "from GPy import kern as kern\n",
    "\n",
    "import emupints\n",
    "import emupints.plot as emuplt\n",
    "import emupints.utils as emutils\n",
    "import emupints.metrics as emumet\n",
    "\n",
    "from sklearn.preprocessing import StandardScaler"
   ]
  },
  {
   "cell_type": "markdown",
   "metadata": {},
   "source": [
    "## Problem creation"
   ]
  },
  {
   "cell_type": "code",
   "execution_count": 2,
   "metadata": {},
   "outputs": [
    {
     "data": {
      "text/plain": [
       "array([[ 1.49876089, -1.37566955],\n",
       "       [ 1.9449817 ,  3.17878563],\n",
       "       [ 2.36792636, -2.51406529],\n",
       "       [ 1.22616989,  1.99563624],\n",
       "       [ 1.40802103, -2.12700592]])"
      ]
     },
     "execution_count": 2,
     "metadata": {},
     "output_type": "execute_result"
    }
   ],
   "source": [
    "# Load problem from predefined ones\n",
    "model = emupints.Problems.SIRModel\n",
    "problem = emupints.Problems.load_problem(model)\n",
    "\n",
    "problem['values'][:5]"
   ]
  },
  {
   "cell_type": "code",
   "execution_count": 3,
   "metadata": {},
   "outputs": [],
   "source": [
    "# take required variables for visualisation\n",
    "n_parameters = problem['n_parameters']\n",
    "log_likelihood = problem['log_likelihood']\n",
    "bounds = problem['bounds']\n",
    "index_to_param_name = problem['param_names']"
   ]
  },
  {
   "cell_type": "markdown",
   "metadata": {},
   "source": [
    "## Timing prediction time vs number of training points"
   ]
  },
  {
   "cell_type": "code",
   "execution_count": 6,
   "metadata": {},
   "outputs": [],
   "source": [
    "# Model : Time to execute vs number of times (expect to be close to linear?)\n",
    "# Emulator : Time to execute vs number of training points \n",
    "import time\n",
    "\n",
    "import warnings\n",
    "warnings.filterwarnings('ignore')"
   ]
  },
  {
   "cell_type": "code",
   "execution_count": 29,
   "metadata": {
    "scrolled": true
   },
   "outputs": [
    {
     "name": "stdout",
     "output_type": "stream",
     "text": [
      "Kernel: MLP\n",
      "    Size 100: 0.05580, 0.00039\n",
      "    Size 300: 0.27821, 0.00067\n",
      "    Size 500: 0.53724, 0.00072\n",
      "    Size 700: 1.28855, 0.00071\n",
      "    Size 900: 2.81087, 0.00091\n",
      "    Size 1100: 4.18714, 0.00080\n",
      "    Size 1300: 5.84737, 0.00108\n",
      "    Size 1500: 9.77217, 0.00156\n",
      "    Size 1700: 10.11452, 0.00189\n",
      "    Size 1900: 14.42708, 0.00304\n",
      "    Size 2100: 28.09059, 0.00324\n",
      "    Size 2300: 19.57920, 0.00295\n",
      "    Size 2500: 28.91699, 0.00388\n",
      "    Size 2700: 28.22916, 0.00425\n",
      "    Size 2900: 36.38405, 0.00563\n",
      "    Size 3100: 53.11646, 0.00550\n",
      "    Size 3300: 45.67552, 0.00613\n",
      "    Size 3500: 72.22583, 0.00707\n",
      "    Size 3700: 78.12565, 0.00845\n",
      "    Size 3900: 75.59896, 0.00885\n",
      "Kernel: RBF\n",
      "    Size 100: 0.03700, 0.00033\n",
      "    Size 300: 0.11949, 0.00042\n",
      "    Size 500: 0.49586, 0.00045\n",
      "    Size 700: 1.14124, 0.00052\n",
      "    Size 900: 1.56600, 0.00063\n",
      "    Size 1100: 2.59613, 0.00091\n",
      "    Size 1300: 3.92654, 0.00130\n",
      "    Size 1500: 6.04306, 0.00175\n",
      "    Size 1700: 7.99468, 0.00211\n",
      "    Size 1900: 11.33216, 0.00257\n",
      "    Size 2100: 14.03293, 0.00314\n",
      "    Size 2300: 18.01881, 0.00346\n",
      "    Size 2500: 21.44833, 0.00391\n",
      "    Size 2700: 25.44294, 0.00443\n",
      "    Size 2900: 31.47514, 0.00524\n",
      "    Size 3100: 36.09718, 0.00675\n",
      "    Size 3300: 53.18981, 0.00583\n",
      "    Size 3500: 45.78310, 0.00650\n",
      "    Size 3700: 79.24727, 0.00715\n",
      "    Size 3900: 61.10657, 0.00826\n",
      "Kernel: Matern\n",
      "    Size 100: 0.02785, 0.00034\n",
      "    Size 300: 0.13668, 0.00037\n",
      "    Size 500: 0.40185, 0.00045\n",
      "    Size 700: 1.05003, 0.00053\n",
      "    Size 900: 2.05051, 0.00069\n",
      "    Size 1100: 3.87077, 0.00118\n",
      "    Size 1300: 5.47752, 0.00137\n",
      "    Size 1500: 7.44840, 0.00182\n",
      "    Size 1700: 9.52343, 0.00213\n",
      "    Size 1900: 12.85774, 0.00257\n",
      "    Size 2100: 15.87286, 0.00348\n",
      "    Size 2300: 22.46266, 0.00356\n",
      "    Size 2500: 24.87709, 0.00426\n",
      "    Size 2700: 41.31150, 0.00474\n",
      "    Size 2900: 43.09385, 0.00517\n",
      "    Size 3100: 45.25063, 0.00623\n",
      "    Size 3300: 80.58777, 0.00541\n",
      "    Size 3500: 50.81395, 0.00756\n",
      "    Size 3700: 102.66844, 0.00723\n",
      "    Size 3900: 68.72506, 0.00686\n",
      "Kernel: RatQuad\n",
      "    Size 100: 0.05210, 0.00030\n",
      "    Size 300: 0.26789, 0.00035\n",
      "    Size 500: 0.63246, 0.00041\n",
      "    Size 700: 1.62760, 0.00047\n",
      "    Size 900: 2.46020, 0.00056\n",
      "    Size 1100: 3.98882, 0.00069\n",
      "    Size 1300: 6.26946, 0.00102\n",
      "    Size 1500: 8.51350, 0.00146\n",
      "    Size 1700: 12.35619, 0.00200\n",
      "    Size 1900: 16.77841, 0.00242\n",
      "    Size 2100: 18.27182, 0.00285\n",
      "    Size 2300: 21.98924, 0.00323\n",
      "    Size 2500: 27.91235, 0.00372\n",
      "    Size 2700: 32.93526, 0.00415\n",
      "    Size 2900: 39.99044, 0.00482\n",
      "    Size 3100: 47.89845, 0.00572\n",
      "    Size 3300: 60.06069, 0.00628\n",
      "    Size 3500: 68.60412, 0.00700\n",
      "    Size 3700: 78.71884, 0.00756\n",
      "    Size 3900: 82.86224, 0.00843\n"
     ]
    }
   ],
   "source": [
    "# Create data to test\n",
    "train_sizes = [100 * i for i in range(1, 40, 2)]\n",
    "training_set = bounds.sample(train_sizes[-1])\n",
    "target_likelihoods = np.apply_along_axis(log_likelihood, 1, training_set)\n",
    "\n",
    "# Example kernels in use\n",
    "kernels = [\n",
    "    (kern.MLP(n_parameters), 'MLP'),\n",
    "    (kern.RBF(n_parameters), 'RBF'),\n",
    "    (kern.Matern52(n_parameters), 'Matern'),\n",
    "    (kern.RatQuad(n_parameters), 'RatQuad'), \n",
    "]\n",
    "\n",
    "# Store results for each kernel in these dicts\n",
    "kern_train_times = {}\n",
    "kern_prediction_times = {}\n",
    "\n",
    "for kernel, kernel_name in kernels:\n",
    "    print(\"Kernel: \" + kernel_name)\n",
    "\n",
    "    # store result for each kernel\n",
    "    emu_train_times = []\n",
    "    emu_prediction_times = []\n",
    "    for size in train_sizes:\n",
    "        test_inputs = training_set[:size]\n",
    "        test_outputs = target_likelihoods[:size]\n",
    "                \n",
    "        def train_gp():\n",
    "            test_emu = emupints.GPEmulator(log_likelihood, test_inputs, test_outputs, \n",
    "                                           input_scaler=StandardScaler())\n",
    "            test_emu.set_parameters(kernel = kernel)\n",
    "            test_emu.fit(normalizer = True, messages = False)\n",
    "            \n",
    "            return test_emu\n",
    "\n",
    "        train_time = %timeit -o -q train_gp()\n",
    "        train_time = train_time.average\n",
    "        emu_train_times.append(train_time)\n",
    "        \n",
    "        # Initialize GP and performd predictions\n",
    "        test_emu = train_gp()\n",
    "        \n",
    "        pred_time = %timeit -o -q test_emu(bounds.sample(1)[0])\n",
    "        pred_time = pred_time.average\n",
    "        emu_prediction_times.append(pred_time)\n",
    "\n",
    "        print(\"    Size {}: {:.5f}, {:.5f}\".format(size, emu_train_times[-1], emu_prediction_times[-1]))\n",
    "\n",
    "    kern_train_times[kernel_name] = emu_train_times[::]\n",
    "    kern_prediction_times[kernel_name] = emu_prediction_times[::]    "
   ]
  },
  {
   "cell_type": "code",
   "execution_count": 30,
   "metadata": {},
   "outputs": [
    {
     "data": {
      "image/png": "[encoded data removed]",
      "text/plain": [
       "<Figure size 432x288 with 1 Axes>"
      ]
     },
     "metadata": {
      "needs_background": "light"
     },
     "output_type": "display_data"
    }
   ],
   "source": [
    "mlp_train_times = kern_train_times['MLP']\n",
    "rbf_train_times = kern_train_times['RBF']\n",
    "matern_train_times = kern_train_times['Matern']\n",
    "\n",
    "# want log-log scale\n",
    "log_train_sizes = np.log(train_sizes)\n",
    "log_mlp_train_times = np.log(mlp_train_times)\n",
    "log_rbf_train_times = np.log(rbf_train_times)\n",
    "log_matern_train_times = np.log(matern_train_times)\n",
    "\n",
    "plt.plot(log_train_sizes, log_mlp_train_times, label='MLP', color='r')\n",
    "plt.plot(log_train_sizes, log_rbf_train_times, label='RBF', color='g')\n",
    "plt.plot(log_train_sizes, log_matern_train_times, label='Matern', color='b')\n",
    "plt.title(\"GP training time vs number of training points\")\n",
    "plt.xlabel(\"Log of # training points\")\n",
    "plt.ylabel(\"Log time of training (s)\")\n",
    "plt.legend()\n",
    "plt.show()"
   ]
  },
  {
   "cell_type": "code",
   "execution_count": 32,
   "metadata": {},
   "outputs": [
    {
     "data": {
      "image/png": "[encoded data removed]",
      "text/plain": [
       "<Figure size 432x288 with 1 Axes>"
      ]
     },
     "metadata": {
      "needs_background": "light"
     },
     "output_type": "display_data"
    }
   ],
   "source": [
    "# convert to millimeters\n",
    "mlp_prediction_times = np.array(kern_prediction_times['MLP']) * 1000\n",
    "rbf_prediction_times = np.array(kern_prediction_times['RBF']) * 1000\n",
    "matern_prediction_times = np.array(kern_prediction_times['Matern']) * 1000\n",
    "\n",
    "# want log-log scale\n",
    "log_train_sizes = np.log(train_sizes)\n",
    "log_mlp_prediction_times = np.log(mlp_prediction_times)\n",
    "log_rbf_prediction_times = np.log(rbf_prediction_times)\n",
    "log_matern_prediction_times = np.log(matern_prediction_times)\n",
    "\n",
    "plt.plot(log_train_sizes, log_mlp_prediction_times, label='MLP', color='r')\n",
    "plt.plot(log_train_sizes, log_rbf_prediction_times, label='RBF', color='g')\n",
    "plt.plot(log_train_sizes, log_matern_prediction_times, label='Matern', color='b')\n",
    "plt.title(\"GP training time vs number of training points\")\n",
    "plt.xlabel(\"Log of # training points\")\n",
    "plt.ylabel(\"Log time for prediction (ms)\")\n",
    "plt.legend()\n",
    "plt.show()"
   ]
  },
  {
   "cell_type": "markdown",
   "metadata": {},
   "source": [
    "## Prediction time and mae depending on Kernel and problem"
   ]
  },
  {
   "cell_type": "code",
   "execution_count": 3,
   "metadata": {},
   "outputs": [],
   "source": [
    "kernel_names = [\n",
    "    'RBF',\n",
    "    'RatQuad',\n",
    "    'MLP',\n",
    "    'Matern',\n",
    "    'RatQuad + RBF',\n",
    "    'MLP + RBF',\n",
    "    'Matern + RBF',\n",
    "    'MLP + Matern + RatQuad'\n",
    "]"
   ]
  },
  {
   "cell_type": "code",
   "execution_count": 4,
   "metadata": {},
   "outputs": [
    {
     "name": "stdout",
     "output_type": "stream",
     "text": [
      "Logistic\n",
      "    RBF: 0.00061, 0.00000, 0.0007818337\n",
      "    RatQuad: 0.00053, 0.00000, 0.0007505175\n",
      "    MLP: 0.00020, 0.00000, 0.0010833383\n",
      "    Matern: 0.00045, 0.00000, 0.0007484719\n",
      "    RatQuad + RBF: 0.00048, 0.00000, 0.0010253947\n",
      "    MLP + RBF: 0.00059, 0.00000, 0.0011168599\n",
      "    Matern + RBF: 0.00048, 0.00000, 0.0008765139\n",
      "    MLP + Matern + RatQuad: 0.00061, 0.00000, 0.0012334419\n",
      "SIR\n",
      "    RBF: 7.57006, 0.01242, 0.0005577706\n"
     ]
    },
    {
     "name": "stderr",
     "output_type": "stream",
     "text": [
      " /Users/maksympetyak/Prog/emupints/env/lib/python3.6/site-packages/GPy/kern/src/stationary.py:676: RuntimeWarning:overflow encountered in square\n",
      " /Users/maksympetyak/Prog/emupints/env/lib/python3.6/site-packages/GPy/kern/src/stationary.py:681: RuntimeWarning:overflow encountered in square\n",
      " /Users/maksympetyak/Prog/emupints/env/lib/python3.6/site-packages/GPy/kern/src/stationary.py:688: RuntimeWarning:overflow encountered in square\n",
      " /Users/maksympetyak/Prog/emupints/env/lib/python3.6/site-packages/GPy/kern/src/stationary.py:690: RuntimeWarning:invalid value encountered in multiply\n"
     ]
    },
    {
     "name": "stdout",
     "output_type": "stream",
     "text": [
      "    RatQuad: 5.60710, 0.00921, 0.0007726966\n",
      "    MLP: 8.51393, 0.01396, 0.0007341628\n",
      "    Matern: 10.41498, 0.01703, 0.0008778331\n",
      "    RatQuad + RBF: 8.09238, 0.01326, 0.0012562147\n",
      "    MLP + RBF: 7.98399, 0.01309, 0.0009138635\n",
      "    Matern + RBF: 7.49148, 0.01230, 0.0008571069\n",
      "    MLP + Matern + RatQuad: 7.69806, 0.01262, 0.0012049140\n",
      "FitzhughNagumo\n",
      "    RBF: 0.47163, 0.00221, 0.0005645393\n",
      "    RatQuad: 0.75134, 0.00383, 0.0006347588\n",
      "    MLP: 0.76609, 0.00400, 0.0006680999\n",
      "    Matern: 0.42709, 0.00197, 0.0007091200\n",
      "    RatQuad + RBF: 0.73926, 0.00385, 0.0009566268\n",
      "    MLP + RBF: 0.13075, 0.00057, 0.0009672187\n",
      "    Matern + RBF: 0.67003, 0.00337, 0.0010715848\n",
      "    MLP + Matern + RatQuad: 0.14196, 0.00062, 0.0012038039\n",
      "LotkaVolterra\n",
      "    RBF: 0.00766, 0.00001, 0.0005894633\n",
      "    RatQuad: 0.00821, 0.00002, 0.0006091743\n",
      "    MLP: 0.02187, 0.00004, 0.0007726229\n",
      "    Matern: 0.03251, 0.00006, 0.0006405247\n",
      "    RatQuad + RBF: 0.00792, 0.00002, 0.0009190934\n",
      "    MLP + RBF: 0.00790, 0.00002, 0.0011025057\n",
      "    Matern + RBF: 0.00773, 0.00001, 0.0009256312\n",
      "    MLP + Matern + RatQuad: 0.01658, 0.00003, 0.0012443882\n",
      "HodgkinHuxleyIK\n",
      "    RBF: 91.03631, 0.06023, 0.0005817227\n",
      "    RatQuad: 89.19749, 0.05723, 0.0006142887\n",
      "    MLP: 81.72678, 0.05350, 0.0006908527\n",
      "    Matern: 97.65381, 0.06304, 0.0008730506\n",
      "    RatQuad + RBF: 91.80762, 0.05904, 0.0008844484\n",
      "    MLP + RBF: 94.18385, 0.06008, 0.0009152182\n",
      "    Matern + RBF: 92.63026, 0.05966, 0.0009691002\n",
      "    MLP + Matern + RatQuad: 97.43439, 0.06263, 0.0015180573\n",
      "GoodwinOscillator\n",
      "    RBF: 0.14548, 0.00006, 0.0008370810\n",
      "    RatQuad: 0.07627, 0.00003, 0.0007376262\n",
      "    MLP: 0.06975, 0.00003, 0.0009835309\n",
      "    Matern: 0.10132, 0.00004, 0.0008518624\n"
     ]
    },
    {
     "name": "stderr",
     "output_type": "stream",
     "text": [
      " /Users/maksympetyak/Prog/emupints/env/lib/python3.6/site-packages/GPy/kern/src/stationary.py:676: RuntimeWarning:overflow encountered in square\n",
      " /Users/maksympetyak/Prog/emupints/env/lib/python3.6/site-packages/GPy/kern/src/stationary.py:681: RuntimeWarning:overflow encountered in square\n",
      " /Users/maksympetyak/Prog/emupints/env/lib/python3.6/site-packages/GPy/kern/src/stationary.py:688: RuntimeWarning:overflow encountered in square\n",
      " /Users/maksympetyak/Prog/emupints/env/lib/python3.6/site-packages/GPy/kern/src/stationary.py:690: RuntimeWarning:invalid value encountered in multiply\n"
     ]
    },
    {
     "name": "stdout",
     "output_type": "stream",
     "text": [
      "    RatQuad + RBF: 0.10868, 0.00004, 0.0014658470\n",
      "    MLP + RBF: 0.06794, 0.00003, 0.0008756992\n"
     ]
    },
    {
     "name": "stderr",
     "output_type": "stream",
     "text": [
      " /Users/maksympetyak/Prog/emupints/env/lib/python3.6/site-packages/GPy/kern/src/stationary.py:676: RuntimeWarning:overflow encountered in square\n",
      " /Users/maksympetyak/Prog/emupints/env/lib/python3.6/site-packages/GPy/kern/src/stationary.py:681: RuntimeWarning:overflow encountered in square\n",
      " /Users/maksympetyak/Prog/emupints/env/lib/python3.6/site-packages/GPy/kern/src/stationary.py:688: RuntimeWarning:overflow encountered in square\n",
      " /Users/maksympetyak/Prog/emupints/env/lib/python3.6/site-packages/GPy/kern/src/stationary.py:690: RuntimeWarning:invalid value encountered in multiply\n"
     ]
    },
    {
     "name": "stdout",
     "output_type": "stream",
     "text": [
      "    Matern + RBF: 0.10714, 0.00004, 0.0011945916\n",
      "    MLP + Matern + RatQuad: 0.09679, 0.00004, 0.0014593109\n"
     ]
    }
   ],
   "source": [
    "train_size = 1000\n",
    "test_size = 400\n",
    "optimizer = \"lbfgs\"\n",
    "\n",
    "problems = [\n",
    "    (emupints.Problems.LogisticModel, 'Logistic'),\n",
    "    (emupints.Problems.SIRModel, 'SIR'),\n",
    "    (emupints.Problems.FitzhughNagumoModel, 'FitzhughNagumo'),\n",
    "    (emupints.Problems.LotkaVolterraModel, 'LotkaVolterra'),\n",
    "    (emupints.Problems.HodgkinHuxleyIKModel, 'HodgkinHuxleyIK'),\n",
    "    (emupints.Problems.GoodwinOscillatorModel, 'GoodwinOscillator')\n",
    "]\n",
    "\n",
    "results = {}\n",
    "\n",
    "for problem, problem_name in problems:\n",
    "    print(problem_name)\n",
    "    # load problem\n",
    "    problem = emupints.Problems.load_problem(problem)\n",
    "    n_parameters = problem['n_parameters']\n",
    "    parameters = problem['parameters']\n",
    "    log_likelihood = problem['log_likelihood']\n",
    "    log_posterior = problem['log_posterior']\n",
    "    bounds = problem['bounds']\n",
    "    \n",
    "    # create data for training and testing\n",
    "    train_X = parameters + np.random.randn(train_size, n_parameters) * (0.05 * parameters)\n",
    "    train_y = np.apply_along_axis(log_likelihood, 1, train_X)\n",
    "\n",
    "    test_X = parameters + np.random.randn(test_size, n_parameters) * (0.05 * parameters)\n",
    "    test_y = np.apply_along_axis(log_likelihood, 1, test_X)\n",
    "\n",
    "    # create appropriate kernels\n",
    "    kernels = [\n",
    "        kern.RBF(n_parameters),\n",
    "        kern.RatQuad(n_parameters),\n",
    "        kern.MLP(n_parameters),\n",
    "        kern.Matern52(n_parameters),\n",
    "        kern.RatQuad(n_parameters) + kern.RBF(n_parameters),\n",
    "        kern.Matern52(n_parameters) + kern.RBF(n_parameters),\n",
    "        kern.RatQuad(n_parameters) + kern.RBF(n_parameters),\n",
    "        kern.MLP(n_parameters) + kern.Matern52(n_parameters) + kern.RatQuad(n_parameters),\n",
    "    ]\n",
    "    \n",
    "    # metrics to store\n",
    "    kernel_chain_mae = []\n",
    "    kernel_chain_mape = []\n",
    "    kernel_time = []\n",
    "    \n",
    "    for kernel, kernel_name in zip(kernels, kernel_names):\n",
    "        # train emulator\n",
    "        emu = emupints.GPEmulator(log_likelihood, train_X, train_y,\n",
    "                                  input_scaler=StandardScaler())\n",
    "        emu.set_parameters(kernel = kernel)\n",
    "        emu.fit(optimize = False, normalizer = True)\n",
    "        emu.optimize(messages = False)\n",
    "\n",
    "        # Perform single MCMC run to calcluate chain mape\n",
    "        mcmc = pints.MCMCSampling(\n",
    "            log_posterior, \n",
    "            1, # one chain\n",
    "            [parameters], \n",
    "        )\n",
    "        mcmc.set_max_iterations(10000)\n",
    "        mcmc.set_log_to_screen(False)\n",
    "        mcmc_chain = mcmc.run()[0]\n",
    "    \n",
    "        # accuracy via mae\n",
    "        chain_mae = emumet.chain_mae(mcmc_chain, emu, log_likelihood)\n",
    "        kernel_chain_mae.append(chain_mae)\n",
    "        \n",
    "        # accuracy via absolute error along a chain \n",
    "        chain_mape = emumet.chain_mape(mcmc_chain, emu, log_likelihood)\n",
    "        kernel_chain_mape.append(chain_mape)\n",
    "\n",
    "        # speed\n",
    "        pred_time = %timeit -o -q emu(parameters)\n",
    "        pred_time = pred_time.average\n",
    "        kernel_time.append(pred_time)\n",
    "        \n",
    "        # delete used emulators\n",
    "        del emu\n",
    "        \n",
    "        print(\"    {}: {:.5f}, {:.5f}, {:.10f}\".format(kernel_name, chain_mae, chain_mape, pred_time))\n",
    "    \n",
    "    # store results\n",
    "    results[problem_name] = [kernel_chain_mae, kernel_chain_mape, kernel_time]"
   ]
  },
  {
   "cell_type": "code",
   "execution_count": 18,
   "metadata": {},
   "outputs": [
    {
     "name": "stdout",
     "output_type": "stream",
     "text": [
      "          RBF      RatQuad      MLP       Matern   RatQuad + RBF MLP + RBF  Matern + RBF\n",
      "Logistic\n",
      " mae | & 0.00061 & 0.00053 & 0.00020 & 0.00045 & 0.00048 & 0.00059 & 0.00048\n",
      "cmape| & 0.00007 & 0.00006 & 0.00002 & 0.00005 & 0.00005 & 0.00006 & 0.00005\n",
      "time | & 781.83 & 750.52 & 1083.34 & 748.47 & 1025.39 & 1116.86 & 876.51\n",
      "SIR\n",
      " mae | & 7.57006 & 5.60710 & 8.51393 & 10.41498 & 8.09238 & 7.98399 & 7.49148\n",
      "cmape| & 1.24211 & 0.92121 & 1.39595 & 1.70347 & 1.32636 & 1.30931 & 1.22992\n",
      "time | & 557.77 & 772.70 & 734.16 & 877.83 & 1256.21 & 913.86 & 857.11\n",
      "FitzhughNagumo\n",
      " mae | & 0.47163 & 0.75134 & 0.76609 & 0.42709 & 0.73926 & 0.13075 & 0.67003\n",
      "cmape| & 0.22056 & 0.38326 & 0.39965 & 0.19665 & 0.38524 & 0.05661 & 0.33689\n",
      "time | & 564.54 & 634.76 & 668.10 & 709.12 & 956.63 & 967.22 & 1071.58\n",
      "LotkaVolterra\n",
      " mae | & 0.00766 & 0.00821 & 0.02187 & 0.03251 & 0.00792 & 0.00790 & 0.00773\n",
      "cmape| & 0.00146 & 0.00156 & 0.00416 & 0.00619 & 0.00151 & 0.00150 & 0.00147\n",
      "time | & 589.46 & 609.17 & 772.62 & 640.52 & 919.09 & 1102.51 & 925.63\n",
      "HodgkinHuxleyIK\n",
      " mae | & 91.03631 & 89.19749 & 81.72678 & 97.65381 & 91.80762 & 94.18385 & 92.63026\n",
      "cmape| & 6.02288 & 5.72251 & 5.34958 & 6.30391 & 5.90407 & 6.00840 & 5.96551\n",
      "time | & 581.72 & 614.29 & 690.85 & 873.05 & 884.45 & 915.22 & 969.10\n",
      "GoodwinOscillator\n",
      " mae | & 0.14548 & 0.07627 & 0.06975 & 0.10132 & 0.10868 & 0.06794 & 0.10714\n",
      "cmape| & 0.00583 & 0.00306 & 0.00280 & 0.00406 & 0.00436 & 0.00272 & 0.00430\n",
      "time | & 837.08 & 737.63 & 983.53 & 851.86 & 1465.85 & 875.70 & 1194.59\n"
     ]
    }
   ],
   "source": [
    "# print results in a table format\n",
    "# convenient print to copy paste result to Latex\n",
    "problem_names = ['Logistic', 'SIR', 'FitzhughNagumo', 'LotkaVolterra', 'HodgkinHuxleyIK', 'GoodwinOscillator']\n",
    "print(\" \" * 6, \" \".join([n.center(10) for n in kernel_names[:-1]]))\n",
    "\n",
    "for problem_name in problem_names:\n",
    "    print(problem_name)\n",
    "    problem_results = results[problem_name]\n",
    "    mae, cmape, times = problem_results\n",
    "    # discard last kernel\n",
    "    mae, cmape, times = mae[:-1], cmape[:-1], times[:-1]\n",
    "    \n",
    "    # print mae\n",
    "    print(\" mae | & \", end=\"\")\n",
    "    print(\" & \".join([\"{:.5f}\".format(x) for x in mae]))\n",
    "    \n",
    "    # print cmape\n",
    "    print(\"cmape| & \".center(6), end=\"\")\n",
    "    print(\" & \".join([\"{:.5f}\".format(x * 100)for x in cmape]))\n",
    "    \n",
    "    # print times\n",
    "    print(\"time | & \".center(6), end=\"\")\n",
    "    print(\" & \".join([\"{:.2f}\".format(x * 1000000)for x in times]))\n",
    "    "
   ]
  },
  {
   "cell_type": "code",
   "execution_count": null,
   "metadata": {},
   "outputs": [],
   "source": []
  }
 ],
 "metadata": {
  "kernelspec": {
   "display_name": "env",
   "language": "python",
   "name": "env"
  },
  "language_info": {
   "codemirror_mode": {
    "name": "ipython",
    "version": 3
   },
   "file_extension": ".py",
   "mimetype": "text/x-python",
   "name": "python",
   "nbconvert_exporter": "python",
   "pygments_lexer": "ipython3",
   "version": "3.6.5"
  }
 },
 "nbformat": 4,
 "nbformat_minor": 2
}
